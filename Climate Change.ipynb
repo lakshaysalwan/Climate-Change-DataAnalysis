{
 "cells": [
  {
   "cell_type": "code",
   "execution_count": 1,
   "metadata": {},
   "outputs": [],
   "source": [
    "import pandas as pd\n",
    "import csv\n",
    "import kaggle\n",
    "\n"
   ]
  },
  {
   "cell_type": "code",
   "execution_count": 2,
   "metadata": {},
   "outputs": [
    {
     "name": "stdout",
     "output_type": "stream",
     "text": [
      "Downloading world-bank-climate-change-data.zip to c:\\Users\\laksh\\Documents\\Datasets\\Climate Change Data\n",
      "\n"
     ]
    },
    {
     "name": "stderr",
     "output_type": "stream",
     "text": [
      "\n",
      "  0%|          | 0.00/42.4M [00:00<?, ?B/s]\n",
      "  5%|▍         | 2.00M/42.4M [00:00<00:03, 11.6MB/s]\n",
      "  9%|▉         | 4.00M/42.4M [00:00<00:03, 10.4MB/s]\n",
      " 14%|█▍        | 6.00M/42.4M [00:00<00:04, 7.86MB/s]\n",
      " 17%|█▋        | 7.00M/42.4M [00:00<00:04, 8.35MB/s]\n",
      " 19%|█▉        | 8.00M/42.4M [00:01<00:06, 5.52MB/s]\n",
      " 21%|██        | 9.00M/42.4M [00:01<00:05, 6.06MB/s]\n",
      " 24%|██▎       | 10.0M/42.4M [00:01<00:06, 4.88MB/s]\n",
      " 28%|██▊       | 12.0M/42.4M [00:02<00:08, 3.66MB/s]\n",
      " 33%|███▎      | 14.0M/42.4M [00:02<00:08, 3.66MB/s]\n",
      " 38%|███▊      | 16.0M/42.4M [00:03<00:05, 4.91MB/s]\n",
      " 40%|████      | 17.0M/42.4M [00:04<00:09, 2.77MB/s]\n",
      " 45%|████▍     | 19.0M/42.4M [00:04<00:08, 2.77MB/s]\n",
      " 50%|████▉     | 21.0M/42.4M [00:05<00:07, 3.17MB/s]\n",
      " 54%|█████▍    | 23.0M/42.4M [00:05<00:04, 4.19MB/s]\n",
      " 59%|█████▉    | 25.0M/42.4M [00:05<00:03, 5.31MB/s]\n",
      " 61%|██████▏   | 26.0M/42.4M [00:06<00:03, 5.05MB/s]\n",
      " 64%|██████▎   | 27.0M/42.4M [00:06<00:03, 5.27MB/s]\n",
      " 66%|██████▌   | 28.0M/42.4M [00:06<00:04, 3.72MB/s]\n",
      " 71%|███████   | 30.0M/42.4M [00:06<00:02, 5.13MB/s]\n",
      " 76%|███████▌  | 32.0M/42.4M [00:07<00:01, 6.47MB/s]\n",
      " 78%|███████▊  | 33.0M/42.4M [00:07<00:01, 6.37MB/s]\n",
      " 83%|████████▎ | 35.0M/42.4M [00:07<00:01, 4.69MB/s]\n",
      " 87%|████████▋ | 37.0M/42.4M [00:08<00:00, 6.00MB/s]\n",
      " 90%|████████▉ | 38.0M/42.4M [00:08<00:00, 5.02MB/s]\n",
      " 94%|█████████▍| 40.0M/42.4M [00:08<00:00, 6.50MB/s]\n",
      " 97%|█████████▋| 41.0M/42.4M [00:08<00:00, 6.55MB/s]\n",
      "100%|██████████| 42.4M/42.4M [00:08<00:00, 7.59MB/s]\n",
      "100%|██████████| 42.4M/42.4M [00:08<00:00, 5.02MB/s]\n"
     ]
    }
   ],
   "source": [
    "!kaggle datasets download -d theworldbank/world-bank-climate-change-data"
   ]
  },
  {
   "cell_type": "code",
   "execution_count": 5,
   "metadata": {},
   "outputs": [],
   "source": [
    "import zipfile\n",
    "\n",
    "zipfile_name = 'world-bank-climate-change-data.zip'\n",
    "with zipfile.ZipFile(zipfile_name, 'r') as file:\n",
    "    file.extractall()"
   ]
  },
  {
   "cell_type": "code",
   "execution_count": null,
   "metadata": {},
   "outputs": [],
   "source": []
  }
 ],
 "metadata": {
  "kernelspec": {
   "display_name": "Python 3",
   "language": "python",
   "name": "python3"
  },
  "language_info": {
   "codemirror_mode": {
    "name": "ipython",
    "version": 3
   },
   "file_extension": ".py",
   "mimetype": "text/x-python",
   "name": "python",
   "nbconvert_exporter": "python",
   "pygments_lexer": "ipython3",
   "version": "3.11.3"
  },
  "orig_nbformat": 4
 },
 "nbformat": 4,
 "nbformat_minor": 2
}
